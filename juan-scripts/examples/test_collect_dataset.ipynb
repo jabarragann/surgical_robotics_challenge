{
 "cells": [
  {
   "cell_type": "code",
   "execution_count": 1,
   "metadata": {},
   "outputs": [],
   "source": [
    "from surgical_robotics_challenge import ecm_arm, camera\n",
    "from ambf_client import Client\n",
    "from autonomy_utils import ambf_utils\n",
    "import rospy\n",
    "import jupyros\n",
    "from pathlib import Path\n",
    "import cv2 as cv\n",
    "import numpy as np \n",
    "rospy.init_node(\"img_node\")"
   ]
  },
  {
   "cell_type": "code",
   "execution_count": 2,
   "metadata": {},
   "outputs": [
    {
     "name": "stdout",
     "output_type": "stream",
     "text": [
      "Found Common Object Namespace as:  /ambf/env/\n",
      "Measured cp \n",
      "[[          -1, 6.85663e-06,-3.67711e-06;\n",
      " -7.78039e-06,   -0.881271,    0.472612;\n",
      " -1.98367e-16,    0.472612,    0.881271]\n",
      "[-8.55245e-07,    0.893574,     1.54166]]\n",
      "Measured jp \n",
      "[0. 0. 0. 0.]\n"
     ]
    }
   ],
   "source": [
    "ambf_client = Client(\"juanclient\")\n",
    "ambf_client.connect()\n",
    "\n",
    "camera_left = camera.Camera(ambf_client, \"cameraL\")\n",
    "camera_right = camera.Camera(ambf_client, \"cameraR\")\n",
    "ambf_cam_frame = camera.Camera(ambf_client, \"CameraFrame\")\n",
    "\n",
    "ecm = ecm_arm.ECM(ambf_client, \"CameraFrame\")\n",
    "\n",
    "print(f\"Measured cp \\n{ecm.measured_cp()}\")\n",
    "print(f\"Measured jp \\n{ecm.measured_jp()}\")"
   ]
  },
  {
   "cell_type": "code",
   "execution_count": null,
   "metadata": {},
   "outputs": [],
   "source": [
    "ecm.servo_jp([-1000.5, 10000.0, -0.0, 0.0])\n",
    "print(f\"Measured jp \\n{ecm.measured_jp()}\")"
   ]
  },
  {
   "cell_type": "markdown",
   "metadata": {},
   "source": [
    "# Thresholding\n"
   ]
  },
  {
   "cell_type": "code",
   "execution_count": 3,
   "metadata": {},
   "outputs": [
    {
     "name": "stdout",
     "output_type": "stream",
     "text": [
      "/home/juan1995/research_juan/surgical_robotics_challenge/juan-scripts/examples/img/left_frame.jpeg\n"
     ]
    }
   ],
   "source": [
    "\n",
    "path = Path(\"./\").resolve().parent / \"examples/img/left_frame.jpeg\"\n",
    "print(path)\n",
    "frame = cv.imread(str(path))\n",
    "frame = cv.resize(frame, (640, 480), interpolation=cv.INTER_AREA)\n",
    "\n"
   ]
  },
  {
   "cell_type": "code",
   "execution_count": 4,
   "metadata": {},
   "outputs": [],
   "source": [
    "# Convert white pixels into black pixels\n",
    "gray = cv.cvtColor(frame, cv.COLOR_BGR2GRAY)\n",
    "ret, thresh = cv.threshold(gray, 220, 255, cv.THRESH_BINARY)\n",
    "frame[thresh == 255] = 0\n",
    "\n",
    "#Threshold the image\n",
    "frame_HSV = cv.cvtColor(frame, cv.COLOR_BGR2HSV)\n",
    "# frame_threshold = cv.inRange(frame_HSV, (0,84,72), (180,254,197))\n",
    "frame_threshold = cv.inRange(frame_HSV, (0,0,27), (180,84,255))\n",
    "# Dilatation et erosion\n",
    "kernel = np.ones((15,15), np.uint8)\n",
    "img_dilation = cv.dilate(frame_threshold, kernel, iterations=1)\n",
    "img_erode = cv.erode(img_dilation,kernel, iterations=1)\n",
    "# clean all noise after dilatation and erosion\n",
    "img_erode = cv.medianBlur(img_erode, 7)\n",
    "#cv.imshow(\"frame\",frame)\n",
    "cv.imshow(\"test\", img_erode)\n",
    "cv.waitKey(0)\n",
    "cv.destroyAllWindows()"
   ]
  },
  {
   "cell_type": "markdown",
   "metadata": {},
   "source": [
    "# Segment AMBF"
   ]
  },
  {
   "cell_type": "code",
   "execution_count": null,
   "metadata": {},
   "outputs": [],
   "source": [
    "from autonomy_utils.ambf_utils import ImageSaver\n",
    "saver = ImageSaver()\n",
    "selector = \"left\"\n"
   ]
  },
  {
   "cell_type": "code",
   "execution_count": null,
   "metadata": {},
   "outputs": [],
   "source": [
    "\n",
    "frame = saver.get_current_frame(selector)\n",
    "\n",
    "# path = Path(\"./\").resolve().parent / \"examples/output/needle_segmentation_pts0.jpeg\"\n",
    "# frame = cv.imread(str(path))\n",
    "cv.imshow(\"test\", frame)\n",
    "cv.waitKey(0)\n",
    "cv.destroyAllWindows()"
   ]
  },
  {
   "cell_type": "markdown",
   "metadata": {},
   "source": [
    "# SIFT\n"
   ]
  },
  {
   "cell_type": "code",
   "execution_count": 47,
   "metadata": {},
   "outputs": [
    {
     "name": "stdout",
     "output_type": "stream",
     "text": [
      "[<KeyPoint 0x7f60edcb1ba0>, <KeyPoint 0x7f60edcb1ab0>, <KeyPoint 0x7f60edcb1900>]\n"
     ]
    }
   ],
   "source": [
    "import cv2\n",
    "from autonomy_utils import pysift\n",
    "\n",
    "keypoints, descriptors = pysift.computeKeypointsAndDescriptors(img_erode)\n"
   ]
  },
  {
   "cell_type": "code",
   "execution_count": null,
   "metadata": {},
   "outputs": [],
   "source": [
    "print(keypoints)"
   ]
  },
  {
   "cell_type": "code",
   "execution_count": 45,
   "metadata": {},
   "outputs": [],
   "source": [
    "img_1 = cv2.drawKeypoints(img_erode,keypoints,img_erode)\n",
    "\n",
    "cv2.imshow(\"im\",img_1)\n",
    "cv2.waitKey(0)\n",
    "cv2.destroyAllWindows()"
   ]
  },
  {
   "cell_type": "code",
   "execution_count": 5,
   "metadata": {},
   "outputs": [],
   "source": [
    "import cv2\n",
    "# create SIFT feature extractor\n",
    "sift = cv2.SIFT_create(nfeatures=18)\n",
    "\n",
    "# detect features from the image\n",
    "keypoints, descriptors = sift.detectAndCompute(img_erode, None)\n",
    "\n",
    "# convert to point class\n",
    "points = cv2.KeyPoint_convert(keypoints)\n",
    "points = np.array(points)\n"
   ]
  },
  {
   "cell_type": "code",
   "execution_count": 6,
   "metadata": {},
   "outputs": [
    {
     "name": "stdout",
     "output_type": "stream",
     "text": [
      "[[508.86438 417.9578 ]\n",
      " [516.01105 410.94846]\n",
      " [527.7544  327.28403]\n",
      " [527.7544  327.28403]]\n"
     ]
    }
   ],
   "source": [
    "print(points)\n",
    "# Display image\n",
    "final = np.copy(img_erode)\n",
    "final = cv2.cvtColor(final, cv2.COLOR_GRAY2BGR)\n",
    "for i in range(points.shape[0]):\n",
    "    final = cv2.circle(final, (int(points[i, 0]), int(points[i, 1])), 3, (255, 0, 0), -1)\n",
    "\n",
    "cv2.imshow(\"final\",final)\n",
    "cv2.waitKey(0)\n",
    "cv2.destroyAllWindows()"
   ]
  }
 ],
 "metadata": {
  "interpreter": {
   "hash": "916dbcbb3f70747c44a77c7bcd40155683ae19c65e1c03b4aa3499c5328201f1"
  },
  "kernelspec": {
   "display_name": "Python 3.8.10 64-bit",
   "language": "python",
   "name": "python3"
  },
  "language_info": {
   "codemirror_mode": {
    "name": "ipython",
    "version": 3
   },
   "file_extension": ".py",
   "mimetype": "text/x-python",
   "name": "python",
   "nbconvert_exporter": "python",
   "pygments_lexer": "ipython3",
   "version": "3.8.12"
  },
  "orig_nbformat": 4
 },
 "nbformat": 4,
 "nbformat_minor": 2
}
